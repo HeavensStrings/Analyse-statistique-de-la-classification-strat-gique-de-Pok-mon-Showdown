{
 "cells": [
  {
   "cell_type": "markdown",
   "metadata": {},
   "source": [
    "# Importation de bibliothèques"
   ]
  },
  {
   "cell_type": "code",
   "execution_count": 10,
   "metadata": {},
   "outputs": [],
   "source": [
    "from sklearn.discriminant_analysis import LinearDiscriminantAnalysis\n",
    "from sklearn.preprocessing import scale\n",
    "import pandas as pd\n",
    "import plotly.express as px\n",
    "import matplotlib.pyplot as plt"
   ]
  },
  {
   "cell_type": "markdown",
   "metadata": {},
   "source": [
    "# Importation des données"
   ]
  },
  {
   "cell_type": "code",
   "execution_count": 11,
   "metadata": {},
   "outputs": [],
   "source": [
    "data = pd.read_csv(\"tests_json.csv\")"
   ]
  },
  {
   "cell_type": "markdown",
   "metadata": {},
   "source": [
    "# Traitement des données"
   ]
  },
  {
   "cell_type": "code",
   "execution_count": 12,
   "metadata": {},
   "outputs": [],
   "source": [
    "data = data[data[\"tier\"] != \"FU\"]\n",
    "X = data[[\"atk\", \"def\", \"hp\", \"sp_atk\", \"sp_def\", \"speed\"]]\n",
    "#X = scale(X)\n",
    "y = data[\"tier\"]"
   ]
  },
  {
   "cell_type": "markdown",
   "metadata": {},
   "source": [
    "# Analyse discriminante"
   ]
  },
  {
   "cell_type": "code",
   "execution_count": 13,
   "metadata": {},
   "outputs": [],
   "source": [
    "lda = LinearDiscriminantAnalysis(solver=\"eigen\")\n",
    "X_transformed = lda.fit_transform(X, y)\n",
    "explained_variance = lda.explained_variance_ratio_\n",
    "scalings = lda.scalings_"
   ]
  },
  {
   "cell_type": "markdown",
   "metadata": {},
   "source": [
    "# Affichage des résultats"
   ]
  },
  {
   "cell_type": "markdown",
   "metadata": {},
   "source": [
    "## Traitement des données"
   ]
  },
  {
   "cell_type": "code",
   "execution_count": 14,
   "metadata": {},
   "outputs": [],
   "source": [
    "data_transformed = pd.DataFrame({\n",
    "    \"name\": data[\"name\"],\n",
    "    \"tier\": data[\"tier\"],\n",
    "    \"X\": X_transformed[:, 0],\n",
    "    \"Y\": X_transformed[:, 1]\n",
    "})"
   ]
  },
  {
   "cell_type": "markdown",
   "metadata": {},
   "source": [
    "## Inertie expliquée"
   ]
  },
  {
   "cell_type": "code",
   "execution_count": 15,
   "metadata": {},
   "outputs": [
    {
     "data": {
      "image/png": "[encoded data removed]",
      "text/plain": [
       "<Figure size 432x288 with 1 Axes>"
      ]
     },
     "metadata": {
      "needs_background": "light"
     },
     "output_type": "display_data"
    },
    {
     "name": "stdout",
     "output_type": "stream",
     "text": [
      "[0.96881899 0.01833019 0.00751477 0.00359546 0.0017406 ]\n"
     ]
    }
   ],
   "source": [
    "plt.bar(range(1, len(explained_variance) + 1), explained_variance)\n",
    "plt.xlabel(\"Axes\")\n",
    "plt.ylabel(\"Inertie expliquée\")\n",
    "plt.show()\n",
    "print(explained_variance)"
   ]
  },
  {
   "cell_type": "markdown",
   "metadata": {},
   "source": [
    "## Nouvelles variables"
   ]
  },
  {
   "cell_type": "code",
   "execution_count": 16,
   "metadata": {},
   "outputs": [
    {
     "data": {
      "text/html": [
       "<div>\n",
       "<style scoped>\n",
       "    .dataframe tbody tr th:only-of-type {\n",
       "        vertical-align: middle;\n",
       "    }\n",
       "\n",
       "    .dataframe tbody tr th {\n",
       "        vertical-align: top;\n",
       "    }\n",
       "\n",
       "    .dataframe thead th {\n",
       "        text-align: right;\n",
       "    }\n",
       "</style>\n",
       "<table border=\"1\" class=\"dataframe\">\n",
       "  <thead>\n",
       "    <tr style=\"text-align: right;\">\n",
       "      <th></th>\n",
       "      <th>Axe 1</th>\n",
       "      <th>Axe 2</th>\n",
       "      <th>Axe 3</th>\n",
       "      <th>Axe 4</th>\n",
       "      <th>Axe 5</th>\n",
       "    </tr>\n",
       "  </thead>\n",
       "  <tbody>\n",
       "    <tr>\n",
       "      <th>atk</th>\n",
       "      <td>0.012277</td>\n",
       "      <td>-0.014049</td>\n",
       "      <td>0.006146</td>\n",
       "      <td>-0.015041</td>\n",
       "      <td>0.031627</td>\n",
       "    </tr>\n",
       "    <tr>\n",
       "      <th>def</th>\n",
       "      <td>0.011666</td>\n",
       "      <td>-0.004166</td>\n",
       "      <td>-0.021839</td>\n",
       "      <td>0.023573</td>\n",
       "      <td>-0.000095</td>\n",
       "    </tr>\n",
       "    <tr>\n",
       "      <th>hp</th>\n",
       "      <td>0.015569</td>\n",
       "      <td>-0.019230</td>\n",
       "      <td>0.012236</td>\n",
       "      <td>-0.005922</td>\n",
       "      <td>-0.025906</td>\n",
       "    </tr>\n",
       "    <tr>\n",
       "      <th>sp_atk</th>\n",
       "      <td>0.016033</td>\n",
       "      <td>-0.004101</td>\n",
       "      <td>-0.022868</td>\n",
       "      <td>0.001460</td>\n",
       "      <td>-0.014638</td>\n",
       "    </tr>\n",
       "    <tr>\n",
       "      <th>sp_def</th>\n",
       "      <td>0.010040</td>\n",
       "      <td>0.026601</td>\n",
       "      <td>0.005247</td>\n",
       "      <td>-0.031547</td>\n",
       "      <td>0.013314</td>\n",
       "    </tr>\n",
       "    <tr>\n",
       "      <th>speed</th>\n",
       "      <td>0.019683</td>\n",
       "      <td>0.015817</td>\n",
       "      <td>0.020223</td>\n",
       "      <td>0.026575</td>\n",
       "      <td>-0.000028</td>\n",
       "    </tr>\n",
       "  </tbody>\n",
       "</table>\n",
       "</div>"
      ],
      "text/plain": [
       "           Axe 1     Axe 2     Axe 3     Axe 4     Axe 5\n",
       "atk     0.012277 -0.014049  0.006146 -0.015041  0.031627\n",
       "def     0.011666 -0.004166 -0.021839  0.023573 -0.000095\n",
       "hp      0.015569 -0.019230  0.012236 -0.005922 -0.025906\n",
       "sp_atk  0.016033 -0.004101 -0.022868  0.001460 -0.014638\n",
       "sp_def  0.010040  0.026601  0.005247 -0.031547  0.013314\n",
       "speed   0.019683  0.015817  0.020223  0.026575 -0.000028"
      ]
     },
     "execution_count": 16,
     "metadata": {},
     "output_type": "execute_result"
    }
   ],
   "source": [
    "pd.DataFrame(scalings[:, :5], index=[\"atk\", \"def\", \"hp\", \"sp_atk\", \"sp_def\", \"speed\"], columns=[f\"Axe {i}\" for i in range(1, len(explained_variance) + 1)])"
   ]
  },
  {
   "cell_type": "markdown",
   "metadata": {},
   "source": [
    "## Projection des données"
   ]
  },
  {
   "cell_type": "markdown",
   "metadata": {},
   "source": [
    "### Sans les noms"
   ]
  },
  {
   "cell_type": "code",
   "execution_count": 17,
   "metadata": {},
   "outputs": [
    {
     "data": {
      "application/vnd.plotly.v1+json": {
       "config": {
        "plotlyServerURL": "https://plot.ly"
       },
       "data": [
        {
         "hovertemplate": "tier=OU<br>X=%{x}<br>Y=%{y}<extra></extra>",
         "legendgroup": "OU",
         "marker": {
          "color": "#636efa",
          "symbol": "circle"
         },
         "mode": "markers",
         "name": "OU",
         "orientation": "v",
         "showlegend": true,
         "type": "scatter",
         "x": [
          7.402484748298742,
          7.724921055216437,
          6.797808984079953,
          6.555255625600757,
          6.6801154613262295,
          7.434538665632347,
          6.611500882151424,
          6.9709204129211155,
          7.495644946755242,
          8.373803337128331,
          8.352154253954879,
          8.526836838336987,
          5.853388922527978,
          6.816896856184322,
          6.923316999246983,
          6.349349485998636,
          3.7588387089598383,
          8.213127575708157,
          7.348379766016869,
          6.4056595860465535,
          5.253098036875589,
          7.06316145300966,
          6.523467587434801,
          8.604898947914768,
          8.224088213859734,
          8.511614434454598,
          8.637580127367336,
          6.98561007587733,
          8.529480920565366,
          7.356656619135993,
          7.45970839544555,
          7.6987120850235415,
          7.136645488125609,
          7.5412704934577395,
          8.422461643493586,
          8.526836838336987,
          8.526836838336987,
          7.256341615554154,
          6.8819956129491775,
          6.979214406309866,
          6.780295577673749,
          6.258525667784913,
          6.755841923168209,
          7.145814540036245,
          8.005251782676693,
          8.23423439877032,
          8.439832539965956,
          8.450593508720416,
          8.45165043959173,
          8.605219971148305,
          8.49360727984969,
          9.897312728408975,
          8.448306680893182,
          7.834492421220999,
          6.019188913259041,
          7.396386172970586,
          7.285196830155171,
          7.360395885858898,
          6.563574824227957
         ],
         "xaxis": "x",
         "y": [
          0.47925334628468513,
          0.39086207500351877,
          -0.16080649442279815,
          0.540344112396874,
          -1.1462113490042012,
          0.8849666664272131,
          -1.458153207226606,
          -0.44164736227338813,
          -0.2168058838690631,
          0.11404346184078949,
          -0.5128160584538461,
          0.08729181708013288,
          -0.28580240231505794,
          -0.6583724473731626,
          0.10058263727032153,
          -0.15181882571294344,
          0.8168878925827462,
          -1.0283957196954256,
          1.320337792602828,
          -0.8561990654566548,
          -0.07421094744077339,
          0.17658309682255569,
          -1.2875069942291386,
          -0.7979893587745364,
          -0.8648139855288973,
          1.7097374575773208,
          0.9968680716108339,
          -0.6392887150787849,
          -0.7525660158224015,
          0.750955093817032,
          0.0014698818734904112,
          1.0996907517925456,
          0.015560807097362492,
          -1.7005436068340105,
          0.04865801099725407,
          0.08729181708013288,
          0.08729181708013288,
          -1.3459205094671796,
          -2.1664522752678277,
          0.4520120531575527,
          1.050149239176463,
          -0.10868836588971593,
          -0.6994064431913715,
          0.10105232928028157,
          1.0729930755966501,
          -0.1300617130152198,
          0.5995811350720296,
          -0.055188711213095404,
          -0.15488021506573768,
          -0.5884607466473796,
          -0.9866065789908359,
          -1.8040030787409504,
          0.4370015111173275,
          0.3976882820600767,
          0.33493382798798155,
          0.5913116543492953,
          0.9453077451345765,
          0.1339651956756713,
          0.573428797794915
         ],
         "yaxis": "y"
        },
        {
         "hovertemplate": "tier=UU<br>X=%{x}<br>Y=%{y}<extra></extra>",
         "legendgroup": "UU",
         "marker": {
          "color": "#EF553B",
          "symbol": "circle"
         },
         "mode": "markers",
         "name": "UU",
         "orientation": "v",
         "showlegend": true,
         "type": "scatter",
         "x": [
          7.367857604546906,
          5.5844978389002735,
          3.889886957150157,
          7.097454615849992,
          7.200517714592636,
          7.961378880136459,
          7.475341440026769,
          6.908658562434983,
          7.318972436350775,
          7.237089719817083,
          7.566791871473246,
          7.518790302675121,
          7.566694171125997,
          7.33689097225116,
          7.845901668841758,
          7.143586379054927,
          7.713188442453856,
          7.106938179220589,
          6.257582514210924,
          5.685340696626975,
          7.592285052549484,
          6.822943687619218,
          7.1737439789875355,
          7.850000064056181,
          8.43107272407015,
          8.358206137604398,
          8.089927540880309,
          8.526836838336987,
          7.404738260560188,
          7.088753069692566,
          5.835353613043614,
          7.460671908826614,
          6.828188653485971,
          7.589945351595185,
          6.589091797227081,
          8.526836838336987,
          7.794400914287257,
          7.364945114343806,
          7.3816399833217945,
          7.3012282762150855,
          7.575014130883224,
          7.171334019279886,
          7.056402895591117,
          7.567233494896301,
          7.811091737876191,
          7.039202135370039,
          7.275228131757678,
          7.275228131757678,
          8.489419034063747,
          8.526836838336987,
          4.321915817667763,
          7.404562369982966,
          6.898272001703687,
          6.476250852511403,
          7.516282038704964,
          7.018501305328123,
          7.462358623592167,
          7.611978110800331,
          7.438849734531828,
          8.608064792058787,
          8.450593508720416,
          9.449891137149358,
          7.306157583301362,
          7.623795115444455,
          8.289847481603294,
          6.528166166653199,
          7.895465023391979,
          8.4431357529526,
          7.849554067885094
         ],
         "xaxis": "x",
         "y": [
          0.5764976461694667,
          0.4488581772150951,
          -0.3860508765549959,
          -0.22997598717391704,
          -0.3204014927695696,
          -0.3886931876300186,
          1.9240325796464888,
          -1.0258320606005744,
          1.653202642739405,
          -1.0902857327742905,
          1.1084480454485186,
          -0.5588803525614968,
          0.5209528312081788,
          -1.758875493812352,
          0.6650523677317179,
          -0.34598526024220677,
          1.3208413894551787,
          1.0419627592409688,
          -1.3071473392344788,
          4.673167606452262,
          0.30936034258859774,
          -1.7755854973641885,
          -0.08781063209245397,
          -0.9322751315623924,
          0.7702202834823126,
          -0.9734375140617868,
          0.5787996187127544,
          0.08729181708013288,
          -0.848729776980416,
          -1.5004341939958268,
          0.7052505577838455,
          0.10519510494384286,
          0.970854949178801,
          1.1973906806428951,
          -0.8514583282547342,
          0.08729181708013288,
          -0.04787634226675545,
          -0.009538551678384341,
          1.2960924301136,
          -1.820039343577981,
          -0.36903833328289354,
          -1.7620457388712663,
          -0.6351827733536697,
          -0.563139698560454,
          -0.1850252743034291,
          0.5122925812191541,
          1.4556243835464235,
          1.4556243835464235,
          -0.3215025073377009,
          0.08729181708013288,
          0.040729502003172824,
          -0.7531327467107234,
          -1.3724685121762774,
          0.7985840315564666,
          -0.11409322901083296,
          0.22874062732662498,
          0.7634838187305997,
          -0.7512982429661863,
          -0.3887111261029319,
          -0.18761487740456634,
          -0.055188711213095404,
          -1.2413908119050445,
          -0.9997682252240325,
          2.1272102787161313,
          1.377282402742294,
          -0.6960247243084998,
          0.7245985240475552,
          -0.2882115705289938,
          1.3797258747651497
         ],
         "yaxis": "y"
        },
        {
         "hovertemplate": "tier=RU<br>X=%{x}<br>Y=%{y}<extra></extra>",
         "legendgroup": "RU",
         "marker": {
          "color": "#00cc96",
          "symbol": "circle"
         },
         "mode": "markers",
         "name": "RU",
         "orientation": "v",
         "showlegend": true,
         "type": "scatter",
         "x": [
          6.962455327043403,
          6.533097583529934,
          5.976805333489423,
          6.627928691485392,
          6.248010225277061,
          6.15065724658316,
          7.786187662157849,
          6.913883973485668,
          8.30787633565194,
          5.897895905963375,
          6.6313405667327405,
          6.044528740812191,
          7.292645354641007,
          6.096444348200397,
          7.7905128566914,
          5.725441783655025,
          6.948908723152776,
          7.001739868469964,
          5.23179979435011,
          6.824354576823249,
          6.821832507177311,
          6.409249441973654,
          7.6088719333844255,
          6.606427275774766,
          7.0535236069944505,
          6.821348411158343,
          6.931174592596229,
          6.569865143863888,
          6.416166160178229,
          7.062916724859064,
          6.9150955125105495,
          7.247181521325717,
          7.492662657096217,
          7.123040521677017,
          7.275228131757678,
          8.308362531495373,
          7.51628423883896,
          7.0190976090820705,
          7.1301830283466066,
          6.376281688852958,
          6.942064221201063,
          6.833590822011452,
          6.382054421266267,
          6.391564462294559,
          6.708157877391368,
          6.795486418733697,
          7.1393552882676925,
          6.532405237681913,
          7.183484374423731,
          6.944767135362489,
          8.318265898279048,
          8.225593598551418,
          8.50935976432128,
          7.733558105409251,
          5.576449687589979,
          6.872125362794971,
          5.921332695698113,
          6.348034299644107,
          6.79510438822162,
          6.6389135439998075,
          7.007073623196674,
          7.083966146930165,
          7.246598567014969
         ],
         "xaxis": "x",
         "y": [
          0.14012286384848782,
          0.29431412807744345,
          1.549850929399409,
          0.27702888681066545,
          1.290535660255636,
          1.2189742215177275,
          1.719193949487672,
          -0.449300346860244,
          -0.3384526011067384,
          -1.3589737478006283,
          -0.2232013083981475,
          0.1889788855216678,
          0.26470618134480794,
          1.1979103404620801,
          0.9175529921687517,
          -0.4804490161477962,
          -0.8931655922398247,
          -0.8965334057737017,
          -0.4813657371397294,
          -1.021499471317274,
          1.516756107394166,
          -0.7534928765103558,
          1.2565584247975976,
          -1.1629659867776985,
          0.2065151955045126,
          1.3254815086095155,
          -0.9061953426480935,
          0.26176270450093697,
          0.3453717868965332,
          0.1829345876843513,
          -0.5027699952757582,
          -2.849652650050092,
          -2.1787754320964927,
          0.7234291356211988,
          1.4556243835464235,
          0.7041393583133719,
          -1.7669808031989653,
          1.0649566430271633,
          0.7073316497690926,
          0.456266279342202,
          0.12164414929989677,
          -1.117881183099769,
          -0.8166858094043243,
          -1.42393873057402,
          0.33605439210373145,
          -2.4987688274031368,
          -1.0950591345944942,
          -0.6342170077130913,
          -0.9367436812298486,
          -0.30915464715339647,
          -0.2972459024282675,
          1.4564731747232342,
          0.97808065726119,
          1.1260671532370385,
          0.03530820598881994,
          -1.3707264462960287,
          -1.6322930861546,
          -0.8334533595026866,
          -0.2736670955981171,
          0.8916052809286753,
          0.05115389370525679,
          1.596040660371005,
          -1.3629742876483661
         ],
         "yaxis": "y"
        },
        {
         "hovertemplate": "tier=PU<br>X=%{x}<br>Y=%{y}<extra></extra>",
         "legendgroup": "PU",
         "marker": {
          "color": "#ab63fa",
          "symbol": "circle"
         },
         "mode": "markers",
         "name": "PU",
         "orientation": "v",
         "showlegend": true,
         "type": "scatter",
         "x": [
          7.092024552262793,
          7.21554149090146,
          4.517650693720939,
          7.079554166639508,
          6.095913683245935,
          6.6555358229396955,
          6.633940042795957,
          6.105312024366657,
          7.206082188604367,
          5.690182177491279,
          6.21470589923104,
          4.526330619676012,
          6.513108047757191,
          7.125345468532517,
          7.012927541804825,
          7.214932417501428,
          3.7760235553842234,
          3.7453810889649803,
          5.4631738627406365,
          6.2419688191639535,
          6.26644713172542,
          4.424183775578215,
          6.385767561507062,
          3.0748752180584535,
          6.059610946544074,
          6.366469890483502,
          5.72595578401182,
          6.35797021303731,
          5.80983625151302,
          5.758032303124689,
          6.821469470669591,
          7.621471794203549,
          7.200344821795446,
          3.763688071983152,
          6.262041341352689,
          7.382453039280018,
          3.870356570454712,
          4.082107305953265,
          6.194100530549434,
          7.0850357122678895,
          6.786548507910909,
          7.275228131757678,
          7.577202151611797,
          6.923543386031548,
          4.5804965086424385,
          4.5804965086424385,
          3.76175943989001,
          7.328745797349445,
          6.307762665620751,
          3.7023248445999477,
          6.6428366825478555,
          4.268250170434381,
          6.708677068793694,
          3.776412288776132,
          6.615529146127894,
          5.135478540621774,
          6.819351476870617,
          6.72015441568191,
          6.78047187914316
         ],
         "xaxis": "x",
         "y": [
          0.8515977414454569,
          1.125736577503712,
          0.6852813161113613,
          -0.24684219830098617,
          1.6449259384114443,
          -1.5505169801555743,
          -0.059048867324765344,
          0.7388664595286807,
          1.8665906470678992,
          -0.10111619951589247,
          -0.8986922569494012,
          0.12643681387923508,
          2.533454426336414,
          0.33860583653091414,
          0.1950398306308183,
          0.23842439598775414,
          0.432653596121293,
          1.65886198829125,
          1.1240688219464445,
          1.0491120993320893,
          -1.520278716011064,
          -0.039421404421508294,
          2.399810373688934,
          0.3249059147275356,
          0.2688216174307507,
          -0.33451442934262793,
          0.754252687553167,
          -0.8453911491193028,
          0.868982929794204,
          1.313380805740792,
          0.06983345366410604,
          3.0436204328833654,
          -0.9562849400228932,
          -0.46798753949249716,
          1.3685645117092549,
          -0.5383429690608947,
          0.16470171050375323,
          0.28018367428362206,
          -0.3827778278426065,
          -0.7152969268929213,
          1.20377651978461,
          1.4556243835464235,
          1.1152298858889622,
          -0.07991349578090007,
          0.16576544473881738,
          0.16576544473881738,
          -0.6119370703289386,
          0.07301489423951628,
          -1.2167486271677679,
          0.3611197743806485,
          -1.5994819407892837,
          0.42247104409822694,
          -0.1611303885602954,
          -0.09921683040376196,
          -0.5349623452331739,
          0.32173226075820427,
          -0.19693374483149528,
          -0.9362969342838297,
          -2.7509807477938732
         ],
         "yaxis": "y"
        },
        {
         "hovertemplate": "tier=NU<br>X=%{x}<br>Y=%{y}<extra></extra>",
         "legendgroup": "NU",
         "marker": {
          "color": "#FFA15A",
          "symbol": "circle"
         },
         "mode": "markers",
         "name": "NU",
         "orientation": "v",
         "showlegend": true,
         "type": "scatter",
         "x": [
          6.231750444867938,
          3.9096911061025525,
          6.79285782199701,
          6.535726449819808,
          6.829121910606702,
          7.376300259718265,
          6.763453114354202,
          6.5913265223189255,
          6.950367230778938,
          6.7016416783034325,
          6.890547561084092,
          7.724921055216437,
          7.414289204361979,
          6.635154751185576,
          6.845221138705307,
          6.6693673156546,
          6.199556963679242,
          6.160348140550585,
          3.4980645906057144,
          6.998595576746573,
          6.746341259398447,
          6.441688584000905,
          6.643051761718812,
          6.225918481137937,
          6.730437240856443,
          6.584234914245169,
          6.684336798915376,
          6.68019214662801,
          6.7168006555200535,
          7.596272072565303,
          4.32164111335824,
          7.175122061746672,
          7.70582512041187,
          7.707257058670113,
          6.796786656396508,
          6.377966317043608,
          7.275228131757678,
          7.982630179827772,
          8.071880394381884,
          7.510571242142222,
          6.659412050590558,
          6.713020222293843,
          3.71577825994967,
          6.153106301791184,
          5.534738653375452,
          7.248390792313787,
          6.484338147450561,
          4.238336131333119,
          6.989518302266953,
          6.395314899179954,
          8.25820431543111,
          6.629968331735398,
          4.072381577523783,
          3.8055899087572738,
          7.250645857794597,
          3.9908701290925355,
          4.3332464323222375,
          6.998936187448541,
          7.631294958769676,
          6.608895788441779,
          4.78469541156611,
          2.8607648558783496,
          6.163992985309022,
          7.510374158433102,
          4.975392310591748,
          6.775163228003257
         ],
         "xaxis": "x",
         "y": [
          -0.9987370933197713,
          -0.16112674539877225,
          -0.18636007582469016,
          0.14362971907256902,
          -0.6222974103940754,
          -1.4291540158892206,
          -0.5516896181468814,
          -2.7002108908482456,
          -0.29946449349588883,
          1.459971021810773,
          -0.34592561467779387,
          0.39086207500351877,
          -0.40858693222303566,
          -0.6904269379170129,
          0.37992423314786294,
          -1.491506987793599,
          -1.6672138159386478,
          -0.3150534573171329,
          -0.40444117230682725,
          -0.1084120818737171,
          0.5848301711262265,
          0.5042533884205527,
          -2.48206290461275,
          -1.2935936281940628,
          -1.2172374079130965,
          -0.4958003582343096,
          -0.001512191170503118,
          -1.06212829453555,
          -0.32505360485512785,
          -0.5305035832881703,
          -0.5107229999102871,
          1.7766782073923182,
          -0.07521390231602768,
          0.271350142701981,
          1.7848003441312157,
          1.1133831945806347,
          1.4556243835464235,
          1.6157672255886553,
          0.17698412724990437,
          -1.059427151342056,
          -0.029502389085587756,
          -0.8104240449002701,
          -1.6656475180722432,
          -0.3493696918894805,
          -1.6650724344930845,
          -0.8492398868357542,
          -0.2942867466512578,
          0.19481705360402127,
          0.46609277452560577,
          -0.7611535613466281,
          -0.6701940717646642,
          -0.09310536672089816,
          0.7202083163995453,
          0.41980927704627913,
          0.3598399877310698,
          0.2161717805116753,
          -0.7570173401449439,
          2.6888816737385843,
          0.7910268487386728,
          -1.0143088838050889,
          -0.5020693589682524,
          -0.2811756424318817,
          -0.10851288729952308,
          0.07627703751113804,
          -0.29780429188489604,
          -0.4419813037771946
         ],
         "yaxis": "y"
        },
        {
         "hovertemplate": "tier=UB<br>X=%{x}<br>Y=%{y}<extra></extra>",
         "legendgroup": "UB",
         "marker": {
          "color": "#19d3f3",
          "symbol": "circle"
         },
         "mode": "markers",
         "name": "UB",
         "orientation": "v",
         "showlegend": true,
         "type": "scatter",
         "x": [
          9.982224049388561,
          9.4261319268984,
          9.377580727288354,
          7.576484072342336,
          9.416601923277668,
          9.310110710650275,
          9.704713096558642,
          9.062721359702724,
          9.260837906607062,
          8.004626739771584,
          8.964399604471227,
          9.610519655344078,
          9.619141114253454,
          9.54258682163625,
          9.674664519572476,
          8.773153129740825,
          8.873107296948938,
          10.232204206004385,
          10.232204206004385,
          10.232204206004385,
          10.232204206004385,
          10.232204206004385,
          10.232204206004385,
          10.232204206004385,
          10.232204206004385,
          10.232204206004385,
          10.232204206004385,
          10.232204206004385,
          10.232204206004385,
          10.232204206004385,
          10.232204206004385,
          10.232204206004385,
          10.232204206004385,
          10.232204206004385,
          10.232204206004385,
          9.578003058948418,
          9.497850033174151,
          10.068837133827689,
          8.513322982564693,
          6.7865653361013,
          9.711153884393248,
          9.711153884393248
         ],
         "xaxis": "x",
         "y": [
          -0.139851247627164,
          1.623075051432023,
          0.8293906097688698,
          -0.8394987485457175,
          0.8298028001927631,
          -1.2059711483020166,
          -1.219777663385469,
          -0.1895992261251164,
          -1.407152760686343,
          2.781251725344422,
          2.180561490917334,
          -0.6402003396262985,
          0.32561265699043007,
          -0.5836778193891627,
          -1.3953801757633142,
          0.8322409598502212,
          -0.1706936647837606,
          0.10475018049615817,
          0.10475018049615817,
          0.10475018049615817,
          0.10475018049615817,
          0.10475018049615817,
          0.10475018049615817,
          0.10475018049615817,
          0.10475018049615817,
          0.10475018049615817,
          0.10475018049615817,
          0.10475018049615817,
          0.10475018049615817,
          0.10475018049615817,
          0.10475018049615817,
          0.10475018049615817,
          0.10475018049615817,
          0.10475018049615817,
          0.10475018049615817,
          -0.02486031255559599,
          -0.9386546681171122,
          -0.9989091843875757,
          0.15398183537592267,
          2.2530720589207345,
          -1.0235204613350994,
          -1.0235204613350994
         ],
         "yaxis": "y"
        }
       ],
       "layout": {
        "legend": {
         "title": {
          "text": "tier"
         },
         "tracegroupgap": 0
        },
        "margin": {
         "t": 60
        },
        "template": {
         "data": {
          "bar": [
           {
            "error_x": {
             "color": "#2a3f5f"
            },
            "error_y": {
             "color": "#2a3f5f"
            },
            "marker": {
             "line": {
              "color": "#E5ECF6",
              "width": 0.5
             },
             "pattern": {
              "fillmode": "overlay",
              "size": 10,
              "solidity": 0.2
             }
            },
            "type": "bar"
           }
          ],
          "barpolar": [
           {
            "marker": {
             "line": {
              "color": "#E5ECF6",
              "width": 0.5
             },
             "pattern": {
              "fillmode": "overlay",
              "size": 10,
              "solidity": 0.2
             }
            },
            "type": "barpolar"
           }
          ],
          "carpet": [
           {
            "aaxis": {
             "endlinecolor": "#2a3f5f",
             "gridcolor": "white",
             "linecolor": "white",
             "minorgridcolor": "white",
             "startlinecolor": "#2a3f5f"
            },
            "baxis": {
             "endlinecolor": "#2a3f5f",
             "gridcolor": "white",
             "linecolor": "white",
             "minorgridcolor": "white",
             "startlinecolor": "#2a3f5f"
            },
            "type": "carpet"
           }
          ],
          "choropleth": [
           {
            "colorbar": {
             "outlinewidth": 0,
             "ticks": ""
            },
            "type": "choropleth"
           }
          ],
          "contour": [
           {
            "colorbar": {
             "outlinewidth": 0,
             "ticks": ""
            },
            "colorscale": [
             [
              0,
              "#0d0887"
             ],
             [
              0.1111111111111111,
              "#46039f"
             ],
             [
              0.2222222222222222,
              "#7201a8"
             ],
             [
              0.3333333333333333,
              "#9c179e"
             ],
             [
              0.4444444444444444,
              "#bd3786"
             ],
             [
              0.5555555555555556,
              "#d8576b"
             ],
             [
              0.6666666666666666,
              "#ed7953"
             ],
             [
              0.7777777777777778,
              "#fb9f3a"
             ],
             [
              0.8888888888888888,
              "#fdca26"
             ],
             [
              1,
              "#f0f921"
             ]
            ],
            "type": "contour"
           }
          ],
          "contourcarpet": [
           {
            "colorbar": {
             "outlinewidth": 0,
             "ticks": ""
            },
            "type": "contourcarpet"
           }
          ],
          "heatmap": [
           {
            "colorbar": {
             "outlinewidth": 0,
             "ticks": ""
            },
            "colorscale": [
             [
              0,
              "#0d0887"
             ],
             [
              0.1111111111111111,
              "#46039f"
             ],
             [
              0.2222222222222222,
              "#7201a8"
             ],
             [
              0.3333333333333333,
              "#9c179e"
             ],
             [
              0.4444444444444444,
              "#bd3786"
             ],
             [
              0.5555555555555556,
              "#d8576b"
             ],
             [
              0.6666666666666666,
              "#ed7953"
             ],
             [
              0.7777777777777778,
              "#fb9f3a"
             ],
             [
              0.8888888888888888,
              "#fdca26"
             ],
             [
              1,
              "#f0f921"
             ]
            ],
            "type": "heatmap"
           }
          ],
          "heatmapgl": [
           {
            "colorbar": {
             "outlinewidth": 0,
             "ticks": ""
            },
            "colorscale": [
             [
              0,
              "#0d0887"
             ],
             [
              0.1111111111111111,
              "#46039f"
             ],
             [
              0.2222222222222222,
              "#7201a8"
             ],
             [
              0.3333333333333333,
              "#9c179e"
             ],
             [
              0.4444444444444444,
              "#bd3786"
             ],
             [
              0.5555555555555556,
              "#d8576b"
             ],
             [
              0.6666666666666666,
              "#ed7953"
             ],
             [
              0.7777777777777778,
              "#fb9f3a"
             ],
             [
              0.8888888888888888,
              "#fdca26"
             ],
             [
              1,
              "#f0f921"
             ]
            ],
            "type": "heatmapgl"
           }
          ],
          "histogram": [
           {
            "marker": {
             "pattern": {
              "fillmode": "overlay",
              "size": 10,
              "solidity": 0.2
             }
            },
            "type": "histogram"
           }
          ],
          "histogram2d": [
           {
            "colorbar": {
             "outlinewidth": 0,
             "ticks": ""
            },
            "colorscale": [
             [
              0,
              "#0d0887"
             ],
             [
              0.1111111111111111,
              "#46039f"
             ],
             [
              0.2222222222222222,
              "#7201a8"
             ],
             [
              0.3333333333333333,
              "#9c179e"
             ],
             [
              0.4444444444444444,
              "#bd3786"
             ],
             [
              0.5555555555555556,
              "#d8576b"
             ],
             [
              0.6666666666666666,
              "#ed7953"
             ],
             [
              0.7777777777777778,
              "#fb9f3a"
             ],
             [
              0.8888888888888888,
              "#fdca26"
             ],
             [
              1,
              "#f0f921"
             ]
            ],
            "type": "histogram2d"
           }
          ],
          "histogram2dcontour": [
           {
            "colorbar": {
             "outlinewidth": 0,
             "ticks": ""
            },
            "colorscale": [
             [
              0,
              "#0d0887"
             ],
             [
              0.1111111111111111,
              "#46039f"
             ],
             [
              0.2222222222222222,
              "#7201a8"
             ],
             [
              0.3333333333333333,
              "#9c179e"
             ],
             [
              0.4444444444444444,
              "#bd3786"
             ],
             [
              0.5555555555555556,
              "#d8576b"
             ],
             [
              0.6666666666666666,
              "#ed7953"
             ],
             [
              0.7777777777777778,
              "#fb9f3a"
             ],
             [
              0.8888888888888888,
              "#fdca26"
             ],
             [
              1,
              "#f0f921"
             ]
            ],
            "type": "histogram2dcontour"
           }
          ],
          "mesh3d": [
           {
            "colorbar": {
             "outlinewidth": 0,
             "ticks": ""
            },
            "type": "mesh3d"
           }
          ],
          "parcoords": [
           {
            "line": {
             "colorbar": {
              "outlinewidth": 0,
              "ticks": ""
             }
            },
            "type": "parcoords"
           }
          ],
          "pie": [
           {
            "automargin": true,
            "type": "pie"
           }
          ],
          "scatter": [
           {
            "marker": {
             "colorbar": {
              "outlinewidth": 0,
              "ticks": ""
             }
            },
            "type": "scatter"
           }
          ],
          "scatter3d": [
           {
            "line": {
             "colorbar": {
              "outlinewidth": 0,
              "ticks": ""
             }
            },
            "marker": {
             "colorbar": {
              "outlinewidth": 0,
              "ticks": ""
             }
            },
            "type": "scatter3d"
           }
          ],
          "scattercarpet": [
           {
            "marker": {
             "colorbar": {
              "outlinewidth": 0,
              "ticks": ""
             }
            },
            "type": "scattercarpet"
           }
          ],
          "scattergeo": [
           {
            "marker": {
             "colorbar": {
              "outlinewidth": 0,
              "ticks": ""
             }
            },
            "type": "scattergeo"
           }
          ],
          "scattergl": [
           {
            "marker": {
             "colorbar": {
              "outlinewidth": 0,
              "ticks": ""
             }
            },
            "type": "scattergl"
           }
          ],
          "scattermapbox": [
           {
            "marker": {
             "colorbar": {
              "outlinewidth": 0,
              "ticks": ""
             }
            },
            "type": "scattermapbox"
           }
          ],
          "scatterpolar": [
           {
            "marker": {
             "colorbar": {
              "outlinewidth": 0,
              "ticks": ""
             }
            },
            "type": "scatterpolar"
           }
          ],
          "scatterpolargl": [
           {
            "marker": {
             "colorbar": {
              "outlinewidth": 0,
              "ticks": ""
             }
            },
            "type": "scatterpolargl"
           }
          ],
          "scatterternary": [
           {
            "marker": {
             "colorbar": {
              "outlinewidth": 0,
              "ticks": ""
             }
            },
            "type": "scatterternary"
           }
          ],
          "surface": [
           {
            "colorbar": {
             "outlinewidth": 0,
             "ticks": ""
            },
            "colorscale": [
             [
              0,
              "#0d0887"
             ],
             [
              0.1111111111111111,
              "#46039f"
             ],
             [
              0.2222222222222222,
              "#7201a8"
             ],
             [
              0.3333333333333333,
              "#9c179e"
             ],
             [
              0.4444444444444444,
              "#bd3786"
             ],
             [
              0.5555555555555556,
              "#d8576b"
             ],
             [
              0.6666666666666666,
              "#ed7953"
             ],
             [
              0.7777777777777778,
              "#fb9f3a"
             ],
             [
              0.8888888888888888,
              "#fdca26"
             ],
             [
              1,
              "#f0f921"
             ]
            ],
            "type": "surface"
           }
          ],
          "table": [
           {
            "cells": {
             "fill": {
              "color": "#EBF0F8"
             },
             "line": {
              "color": "white"
             }
            },
            "header": {
             "fill": {
              "color": "#C8D4E3"
             },
             "line": {
              "color": "white"
             }
            },
            "type": "table"
           }
          ]
         },
         "layout": {
          "annotationdefaults": {
           "arrowcolor": "#2a3f5f",
           "arrowhead": 0,
           "arrowwidth": 1
          },
          "autotypenumbers": "strict",
          "coloraxis": {
           "colorbar": {
            "outlinewidth": 0,
            "ticks": ""
           }
          },
          "colorscale": {
           "diverging": [
            [
             0,
             "#8e0152"
            ],
            [
             0.1,
             "#c51b7d"
            ],
            [
             0.2,
             "#de77ae"
            ],
            [
             0.3,
             "#f1b6da"
            ],
            [
             0.4,
             "#fde0ef"
            ],
            [
             0.5,
             "#f7f7f7"
            ],
            [
             0.6,
             "#e6f5d0"
            ],
            [
             0.7,
             "#b8e186"
            ],
            [
             0.8,
             "#7fbc41"
            ],
            [
             0.9,
             "#4d9221"
            ],
            [
             1,
             "#276419"
            ]
           ],
           "sequential": [
            [
             0,
             "#0d0887"
            ],
            [
             0.1111111111111111,
             "#46039f"
            ],
            [
             0.2222222222222222,
             "#7201a8"
            ],
            [
             0.3333333333333333,
             "#9c179e"
            ],
            [
             0.4444444444444444,
             "#bd3786"
            ],
            [
             0.5555555555555556,
             "#d8576b"
            ],
            [
             0.6666666666666666,
             "#ed7953"
            ],
            [
             0.7777777777777778,
             "#fb9f3a"
            ],
            [
             0.8888888888888888,
             "#fdca26"
            ],
            [
             1,
             "#f0f921"
            ]
           ],
           "sequentialminus": [
            [
             0,
             "#0d0887"
            ],
            [
             0.1111111111111111,
             "#46039f"
            ],
            [
             0.2222222222222222,
             "#7201a8"
            ],
            [
             0.3333333333333333,
             "#9c179e"
            ],
            [
             0.4444444444444444,
             "#bd3786"
            ],
            [
             0.5555555555555556,
             "#d8576b"
            ],
            [
             0.6666666666666666,
             "#ed7953"
            ],
            [
             0.7777777777777778,
             "#fb9f3a"
            ],
            [
             0.8888888888888888,
             "#fdca26"
            ],
            [
             1,
             "#f0f921"
            ]
           ]
          },
          "colorway": [
           "#636efa",
           "#EF553B",
           "#00cc96",
           "#ab63fa",
           "#FFA15A",
           "#19d3f3",
           "#FF6692",
           "#B6E880",
           "#FF97FF",
           "#FECB52"
          ],
          "font": {
           "color": "#2a3f5f"
          },
          "geo": {
           "bgcolor": "white",
           "lakecolor": "white",
           "landcolor": "#E5ECF6",
           "showlakes": true,
           "showland": true,
           "subunitcolor": "white"
          },
          "hoverlabel": {
           "align": "left"
          },
          "hovermode": "closest",
          "mapbox": {
           "style": "light"
          },
          "paper_bgcolor": "white",
          "plot_bgcolor": "#E5ECF6",
          "polar": {
           "angularaxis": {
            "gridcolor": "white",
            "linecolor": "white",
            "ticks": ""
           },
           "bgcolor": "#E5ECF6",
           "radialaxis": {
            "gridcolor": "white",
            "linecolor": "white",
            "ticks": ""
           }
          },
          "scene": {
           "xaxis": {
            "backgroundcolor": "#E5ECF6",
            "gridcolor": "white",
            "gridwidth": 2,
            "linecolor": "white",
            "showbackground": true,
            "ticks": "",
            "zerolinecolor": "white"
           },
           "yaxis": {
            "backgroundcolor": "#E5ECF6",
            "gridcolor": "white",
            "gridwidth": 2,
            "linecolor": "white",
            "showbackground": true,
            "ticks": "",
            "zerolinecolor": "white"
           },
           "zaxis": {
            "backgroundcolor": "#E5ECF6",
            "gridcolor": "white",
            "gridwidth": 2,
            "linecolor": "white",
            "showbackground": true,
            "ticks": "",
            "zerolinecolor": "white"
           }
          },
          "shapedefaults": {
           "line": {
            "color": "#2a3f5f"
           }
          },
          "ternary": {
           "aaxis": {
            "gridcolor": "white",
            "linecolor": "white",
            "ticks": ""
           },
           "baxis": {
            "gridcolor": "white",
            "linecolor": "white",
            "ticks": ""
           },
           "bgcolor": "#E5ECF6",
           "caxis": {
            "gridcolor": "white",
            "linecolor": "white",
            "ticks": ""
           }
          },
          "title": {
           "x": 0.05
          },
          "xaxis": {
           "automargin": true,
           "gridcolor": "white",
           "linecolor": "white",
           "ticks": "",
           "title": {
            "standoff": 15
           },
           "zerolinecolor": "white",
           "zerolinewidth": 2
          },
          "yaxis": {
           "automargin": true,
           "gridcolor": "white",
           "linecolor": "white",
           "ticks": "",
           "title": {
            "standoff": 15
           },
           "zerolinecolor": "white",
           "zerolinewidth": 2
          }
         }
        },
        "xaxis": {
         "anchor": "y",
         "domain": [
          0,
          1
         ],
         "title": {
          "text": "X"
         }
        },
        "yaxis": {
         "anchor": "x",
         "domain": [
          0,
          1
         ],
         "title": {
          "text": "Y"
         }
        }
       }
      }
     },
     "metadata": {},
     "output_type": "display_data"
    }
   ],
   "source": [
    "px.scatter(data_transformed, x=\"X\", y=\"Y\", color=\"tier\")"
   ]
  },
  {
   "cell_type": "markdown",
   "metadata": {},
   "source": [
    "### Avec les noms"
   ]
  },
  {
   "cell_type": "code",
   "execution_count": 18,
   "metadata": {},
   "outputs": [
    {
     "data": {
      "application/vnd.plotly.v1+json": {
       "config": {
        "plotlyServerURL": "https://plot.ly"
       },
       "data": [
        {
         "hovertemplate": "tier=OU<br>X=%{x}<br>Y=%{y}<br>name=%{text}<extra></extra>",
         "legendgroup": "OU",
         "marker": {
          "color": "#636efa",
          "symbol": "circle"
         },
         "mode": "markers+text",
         "name": "OU",
         "orientation": "v",
         "showlegend": true,
         "text": [
          "venusaur",
          "charizard",
          "clefable",
          "venomoth",
          "slowbro",
          "gengar",
          "chansey",
          "pinsir",
          "gyarados",
          "zapdos",
          "dragonite",
          "mew",
          "azumarill",
          "scizor",
          "heracross",
          "skarmory",
          "smeargle",
          "tyranitar",
          "gardevoir",
          "breloom",
          "sableye",
          "manectric",
          "crawdaunt",
          "salamence",
          "metagross",
          "latias",
          "latios",
          "staraptor",
          "garchomp",
          "weavile",
          "magnezone",
          "togekiss",
          "gliscor",
          "mamoswine",
          "heatran",
          "manaphy",
          "victini",
          "excadrill",
          "conkeldurr",
          "scolipede",
          "gothitelle",
          "ferrothorn",
          "bisharp",
          "mandibuzz",
          "volcarona",
          "terrakion",
          "tornadus-therian",
          "thundurus",
          "thundurus-therian",
          "landorus",
          "landorus-therian",
          "kyurem-black",
          "keldeo",
          "greninja",
          "diggersby",
          "talonflame",
          "sylveon",
          "hawlucha",
          "klefki"
         ],
         "type": "scatter",
         "x": [
          7.402484748298742,
          7.724921055216437,
          6.797808984079953,
          6.555255625600757,
          6.6801154613262295,
          7.434538665632347,
          6.611500882151424,
          6.9709204129211155,
          7.495644946755242,
          8.373803337128331,
          8.352154253954879,
          8.526836838336987,
          5.853388922527978,
          6.816896856184322,
          6.923316999246983,
          6.349349485998636,
          3.7588387089598383,
          8.213127575708157,
          7.348379766016869,
          6.4056595860465535,
          5.253098036875589,
          7.06316145300966,
          6.523467587434801,
          8.604898947914768,
          8.224088213859734,
          8.511614434454598,
          8.637580127367336,
          6.98561007587733,
          8.529480920565366,
          7.356656619135993,
          7.45970839544555,
          7.6987120850235415,
          7.136645488125609,
          7.5412704934577395,
          8.422461643493586,
          8.526836838336987,
          8.526836838336987,
          7.256341615554154,
          6.8819956129491775,
          6.979214406309866,
          6.780295577673749,
          6.258525667784913,
          6.755841923168209,
          7.145814540036245,
          8.005251782676693,
          8.23423439877032,
          8.439832539965956,
          8.450593508720416,
          8.45165043959173,
          8.605219971148305,
          8.49360727984969,
          9.897312728408975,
          8.448306680893182,
          7.834492421220999,
          6.019188913259041,
          7.396386172970586,
          7.285196830155171,
          7.360395885858898,
          6.563574824227957
         ],
         "xaxis": "x",
         "y": [
          0.47925334628468513,
          0.39086207500351877,
          -0.16080649442279815,
          0.540344112396874,
          -1.1462113490042012,
          0.8849666664272131,
          -1.458153207226606,
          -0.44164736227338813,
          -0.2168058838690631,
          0.11404346184078949,
          -0.5128160584538461,
          0.08729181708013288,
          -0.28580240231505794,
          -0.6583724473731626,
          0.10058263727032153,
          -0.15181882571294344,
          0.8168878925827462,
          -1.0283957196954256,
          1.320337792602828,
          -0.8561990654566548,
          -0.07421094744077339,
          0.17658309682255569,
          -1.2875069942291386,
          -0.7979893587745364,
          -0.8648139855288973,
          1.7097374575773208,
          0.9968680716108339,
          -0.6392887150787849,
          -0.7525660158224015,
          0.750955093817032,
          0.0014698818734904112,
          1.0996907517925456,
          0.015560807097362492,
          -1.7005436068340105,
          0.04865801099725407,
          0.08729181708013288,
          0.08729181708013288,
          -1.3459205094671796,
          -2.1664522752678277,
          0.4520120531575527,
          1.050149239176463,
          -0.10868836588971593,
          -0.6994064431913715,
          0.10105232928028157,
          1.0729930755966501,
          -0.1300617130152198,
          0.5995811350720296,
          -0.055188711213095404,
          -0.15488021506573768,
          -0.5884607466473796,
          -0.9866065789908359,
          -1.8040030787409504,
          0.4370015111173275,
          0.3976882820600767,
          0.33493382798798155,
          0.5913116543492953,
          0.9453077451345765,
          0.1339651956756713,
          0.573428797794915
         ],
         "yaxis": "y"
        },
        {
         "hovertemplate": "tier=UU<br>X=%{x}<br>Y=%{y}<br>name=%{text}<extra></extra>",
         "legendgroup": "UU",
         "marker": {
          "color": "#EF553B",
          "symbol": "circle"
         },
         "mode": "markers+text",
         "name": "UU",
         "orientation": "v",
         "showlegend": true,
         "text": [
          "blastoise",
          "beedrill",
          "nidoran-f",
          "nidoqueen",
          "nidoking",
          "arcanine",
          "alakazam",
          "machamp",
          "tentacruel",
          "cloyster",
          "starmie",
          "vaporeon",
          "aerodactyl",
          "snorlax",
          "crobat",
          "ampharos",
          "espeon",
          "umbreon",
          "forretress",
          "shuckle",
          "kingdra",
          "donphan",
          "porygon2",
          "blissey",
          "raikou",
          "entei",
          "suicune",
          "celebi",
          "swampert",
          "aggron",
          "medicham",
          "flygon",
          "altaria",
          "milotic",
          "absol",
          "jirachi",
          "infernape",
          "empoleon",
          "roserade",
          "honchkrow",
          "lucario",
          "hippowdon",
          "toxicroak",
          "yanmega",
          "porygon-z",
          "froslass",
          "rotom-wash",
          "rotom-heat",
          "azelf",
          "shaymin",
          "tympole",
          "krookodile",
          "darmanitan",
          "scrafty",
          "zoroark",
          "galvantula",
          "chandelure",
          "haxorus",
          "mienshao",
          "hydreigon",
          "tornadus",
          "kyurem",
          "chesnaught",
          "florges",
          "goodra",
          "trevenant",
          "noivern",
          "zygarde",
          "diancie"
         ],
         "type": "scatter",
         "x": [
          7.367857604546906,
          5.5844978389002735,
          3.889886957150157,
          7.097454615849992,
          7.200517714592636,
          7.961378880136459,
          7.475341440026769,
          6.908658562434983,
          7.318972436350775,
          7.237089719817083,
          7.566791871473246,
          7.518790302675121,
          7.566694171125997,
          7.33689097225116,
          7.845901668841758,
          7.143586379054927,
          7.713188442453856,
          7.106938179220589,
          6.257582514210924,
          5.685340696626975,
          7.592285052549484,
          6.822943687619218,
          7.1737439789875355,
          7.850000064056181,
          8.43107272407015,
          8.358206137604398,
          8.089927540880309,
          8.526836838336987,
          7.404738260560188,
          7.088753069692566,
          5.835353613043614,
          7.460671908826614,
          6.828188653485971,
          7.589945351595185,
          6.589091797227081,
          8.526836838336987,
          7.794400914287257,
          7.364945114343806,
          7.3816399833217945,
          7.3012282762150855,
          7.575014130883224,
          7.171334019279886,
          7.056402895591117,
          7.567233494896301,
          7.811091737876191,
          7.039202135370039,
          7.275228131757678,
          7.275228131757678,
          8.489419034063747,
          8.526836838336987,
          4.321915817667763,
          7.404562369982966,
          6.898272001703687,
          6.476250852511403,
          7.516282038704964,
          7.018501305328123,
          7.462358623592167,
          7.611978110800331,
          7.438849734531828,
          8.608064792058787,
          8.450593508720416,
          9.449891137149358,
          7.306157583301362,
          7.623795115444455,
          8.289847481603294,
          6.528166166653199,
          7.895465023391979,
          8.4431357529526,
          7.849554067885094
         ],
         "xaxis": "x",
         "y": [
          0.5764976461694667,
          0.4488581772150951,
          -0.3860508765549959,
          -0.22997598717391704,
          -0.3204014927695696,
          -0.3886931876300186,
          1.9240325796464888,
          -1.0258320606005744,
          1.653202642739405,
          -1.0902857327742905,
          1.1084480454485186,
          -0.5588803525614968,
          0.5209528312081788,
          -1.758875493812352,
          0.6650523677317179,
          -0.34598526024220677,
          1.3208413894551787,
          1.0419627592409688,
          -1.3071473392344788,
          4.673167606452262,
          0.30936034258859774,
          -1.7755854973641885,
          -0.08781063209245397,
          -0.9322751315623924,
          0.7702202834823126,
          -0.9734375140617868,
          0.5787996187127544,
          0.08729181708013288,
          -0.848729776980416,
          -1.5004341939958268,
          0.7052505577838455,
          0.10519510494384286,
          0.970854949178801,
          1.1973906806428951,
          -0.8514583282547342,
          0.08729181708013288,
          -0.04787634226675545,
          -0.009538551678384341,
          1.2960924301136,
          -1.820039343577981,
          -0.36903833328289354,
          -1.7620457388712663,
          -0.6351827733536697,
          -0.563139698560454,
          -0.1850252743034291,
          0.5122925812191541,
          1.4556243835464235,
          1.4556243835464235,
          -0.3215025073377009,
          0.08729181708013288,
          0.040729502003172824,
          -0.7531327467107234,
          -1.3724685121762774,
          0.7985840315564666,
          -0.11409322901083296,
          0.22874062732662498,
          0.7634838187305997,
          -0.7512982429661863,
          -0.3887111261029319,
          -0.18761487740456634,
          -0.055188711213095404,
          -1.2413908119050445,
          -0.9997682252240325,
          2.1272102787161313,
          1.377282402742294,
          -0.6960247243084998,
          0.7245985240475552,
          -0.2882115705289938,
          1.3797258747651497
         ],
         "yaxis": "y"
        },
        {
         "hovertemplate": "tier=RU<br>X=%{x}<br>Y=%{y}<br>name=%{text}<extra></extra>",
         "legendgroup": "RU",
         "marker": {
          "color": "#00cc96",
          "symbol": "circle"
         },
         "mode": "markers+text",
         "name": "RU",
         "orientation": "v",
         "showlegend": true,
         "text": [
          "pidgeot",
          "golbat",
          "dugtrio",
          "magneton",
          "hitmonlee",
          "hitmonchan",
          "jolteon",
          "omastar",
          "moltres",
          "quagsire",
          "slowking",
          "gligar",
          "houndoom",
          "hitmontop",
          "sceptile",
          "combusken",
          "shiftry",
          "exploud",
          "mawile",
          "sharpedo",
          "claydol",
          "banette",
          "registeel",
          "gastrodon",
          "ambipom",
          "lopunny",
          "skuntank",
          "bronzong",
          "spiritomb",
          "drapion",
          "abomasnow",
          "rhyperior",
          "tangrowth",
          "gallade",
          "rotom-mow",
          "cresselia",
          "emboar",
          "whimsicott",
          "sigilyph",
          "cofagrigus",
          "cinccino",
          "reuniclus",
          "escavalier",
          "amoonguss",
          "jellicent",
          "alomomola",
          "eelektross",
          "druddigon",
          "braviary",
          "durant",
          "cobalion",
          "virizion",
          "meloetta",
          "delphox",
          "fletchinder",
          "pangoro",
          "doublade",
          "aromatisse",
          "slurpuff",
          "dragalge",
          "clawitzer",
          "heliolisk",
          "tyrantrum"
         ],
         "type": "scatter",
         "x": [
          6.962455327043403,
          6.533097583529934,
          5.976805333489423,
          6.627928691485392,
          6.248010225277061,
          6.15065724658316,
          7.786187662157849,
          6.913883973485668,
          8.30787633565194,
          5.897895905963375,
          6.6313405667327405,
          6.044528740812191,
          7.292645354641007,
          6.096444348200397,
          7.7905128566914,
          5.725441783655025,
          6.948908723152776,
          7.001739868469964,
          5.23179979435011,
          6.824354576823249,
          6.821832507177311,
          6.409249441973654,
          7.6088719333844255,
          6.606427275774766,
          7.0535236069944505,
          6.821348411158343,
          6.931174592596229,
          6.569865143863888,
          6.416166160178229,
          7.062916724859064,
          6.9150955125105495,
          7.247181521325717,
          7.492662657096217,
          7.123040521677017,
          7.275228131757678,
          8.308362531495373,
          7.51628423883896,
          7.0190976090820705,
          7.1301830283466066,
          6.376281688852958,
          6.942064221201063,
          6.833590822011452,
          6.382054421266267,
          6.391564462294559,
          6.708157877391368,
          6.795486418733697,
          7.1393552882676925,
          6.532405237681913,
          7.183484374423731,
          6.944767135362489,
          8.318265898279048,
          8.225593598551418,
          8.50935976432128,
          7.733558105409251,
          5.576449687589979,
          6.872125362794971,
          5.921332695698113,
          6.348034299644107,
          6.79510438822162,
          6.6389135439998075,
          7.007073623196674,
          7.083966146930165,
          7.246598567014969
         ],
         "xaxis": "x",
         "y": [
          0.14012286384848782,
          0.29431412807744345,
          1.549850929399409,
          0.27702888681066545,
          1.290535660255636,
          1.2189742215177275,
          1.719193949487672,
          -0.449300346860244,
          -0.3384526011067384,
          -1.3589737478006283,
          -0.2232013083981475,
          0.1889788855216678,
          0.26470618134480794,
          1.1979103404620801,
          0.9175529921687517,
          -0.4804490161477962,
          -0.8931655922398247,
          -0.8965334057737017,
          -0.4813657371397294,
          -1.021499471317274,
          1.516756107394166,
          -0.7534928765103558,
          1.2565584247975976,
          -1.1629659867776985,
          0.2065151955045126,
          1.3254815086095155,
          -0.9061953426480935,
          0.26176270450093697,
          0.3453717868965332,
          0.1829345876843513,
          -0.5027699952757582,
          -2.849652650050092,
          -2.1787754320964927,
          0.7234291356211988,
          1.4556243835464235,
          0.7041393583133719,
          -1.7669808031989653,
          1.0649566430271633,
          0.7073316497690926,
          0.456266279342202,
          0.12164414929989677,
          -1.117881183099769,
          -0.8166858094043243,
          -1.42393873057402,
          0.33605439210373145,
          -2.4987688274031368,
          -1.0950591345944942,
          -0.6342170077130913,
          -0.9367436812298486,
          -0.30915464715339647,
          -0.2972459024282675,
          1.4564731747232342,
          0.97808065726119,
          1.1260671532370385,
          0.03530820598881994,
          -1.3707264462960287,
          -1.6322930861546,
          -0.8334533595026866,
          -0.2736670955981171,
          0.8916052809286753,
          0.05115389370525679,
          1.596040660371005,
          -1.3629742876483661
         ],
         "yaxis": "y"
        },
        {
         "hovertemplate": "tier=PU<br>X=%{x}<br>Y=%{y}<br>name=%{text}<extra></extra>",
         "legendgroup": "PU",
         "marker": {
          "color": "#ab63fa",
          "symbol": "circle"
         },
         "mode": "markers+text",
         "name": "PU",
         "orientation": "v",
         "showlegend": true,
         "text": [
          "raichu",
          "ninetales",
          "poliwag",
          "poliwrath",
          "kadabra",
          "golem",
          "dodrio",
          "haunter",
          "electrode",
          "marowak",
          "tangela",
          "goldeen",
          "mr. mime",
          "scyther",
          "tauros",
          "flareon",
          "hoothoot",
          "ledyba",
          "togetic",
          "sneasel",
          "piloswine",
          "remoraid",
          "mantine",
          "lotad",
          "pelipper",
          "vigoroth",
          "roselia",
          "camerupt",
          "kecleon",
          "dusclops",
          "glalie",
          "regice",
          "torterra",
          "shinx",
          "bastiodon",
          "floatzel",
          "cherubi",
          "chingling",
          "chatot",
          "lickilicky",
          "dusknoir",
          "rotom-frost",
          "serperior",
          "stoutland",
          "pansage",
          "panpour",
          "pidove",
          "zebstrika",
          "throh",
          "venipede",
          "carracosta",
          "vanillite",
          "beheeyem",
          "litwick",
          "bouffalant",
          "espurr",
          "barbaracle",
          "gourgeist-super",
          "avalugg"
         ],
         "type": "scatter",
         "x": [
          7.092024552262793,
          7.21554149090146,
          4.517650693720939,
          7.079554166639508,
          6.095913683245935,
          6.6555358229396955,
          6.633940042795957,
          6.105312024366657,
          7.206082188604367,
          5.690182177491279,
          6.21470589923104,
          4.526330619676012,
          6.513108047757191,
          7.125345468532517,
          7.012927541804825,
          7.214932417501428,
          3.7760235553842234,
          3.7453810889649803,
          5.4631738627406365,
          6.2419688191639535,
          6.26644713172542,
          4.424183775578215,
          6.385767561507062,
          3.0748752180584535,
          6.059610946544074,
          6.366469890483502,
          5.72595578401182,
          6.35797021303731,
          5.80983625151302,
          5.758032303124689,
          6.821469470669591,
          7.621471794203549,
          7.200344821795446,
          3.763688071983152,
          6.262041341352689,
          7.382453039280018,
          3.870356570454712,
          4.082107305953265,
          6.194100530549434,
          7.0850357122678895,
          6.786548507910909,
          7.275228131757678,
          7.577202151611797,
          6.923543386031548,
          4.5804965086424385,
          4.5804965086424385,
          3.76175943989001,
          7.328745797349445,
          6.307762665620751,
          3.7023248445999477,
          6.6428366825478555,
          4.268250170434381,
          6.708677068793694,
          3.776412288776132,
          6.615529146127894,
          5.135478540621774,
          6.819351476870617,
          6.72015441568191,
          6.78047187914316
         ],
         "xaxis": "x",
         "y": [
          0.8515977414454569,
          1.125736577503712,
          0.6852813161113613,
          -0.24684219830098617,
          1.6449259384114443,
          -1.5505169801555743,
          -0.059048867324765344,
          0.7388664595286807,
          1.8665906470678992,
          -0.10111619951589247,
          -0.8986922569494012,
          0.12643681387923508,
          2.533454426336414,
          0.33860583653091414,
          0.1950398306308183,
          0.23842439598775414,
          0.432653596121293,
          1.65886198829125,
          1.1240688219464445,
          1.0491120993320893,
          -1.520278716011064,
          -0.039421404421508294,
          2.399810373688934,
          0.3249059147275356,
          0.2688216174307507,
          -0.33451442934262793,
          0.754252687553167,
          -0.8453911491193028,
          0.868982929794204,
          1.313380805740792,
          0.06983345366410604,
          3.0436204328833654,
          -0.9562849400228932,
          -0.46798753949249716,
          1.3685645117092549,
          -0.5383429690608947,
          0.16470171050375323,
          0.28018367428362206,
          -0.3827778278426065,
          -0.7152969268929213,
          1.20377651978461,
          1.4556243835464235,
          1.1152298858889622,
          -0.07991349578090007,
          0.16576544473881738,
          0.16576544473881738,
          -0.6119370703289386,
          0.07301489423951628,
          -1.2167486271677679,
          0.3611197743806485,
          -1.5994819407892837,
          0.42247104409822694,
          -0.1611303885602954,
          -0.09921683040376196,
          -0.5349623452331739,
          0.32173226075820427,
          -0.19693374483149528,
          -0.9362969342838297,
          -2.7509807477938732
         ],
         "yaxis": "y"
        },
        {
         "hovertemplate": "tier=NU<br>X=%{x}<br>Y=%{y}<br>name=%{text}<extra></extra>",
         "legendgroup": "NU",
         "marker": {
          "color": "#FFA15A",
          "symbol": "circle"
         },
         "mode": "markers+text",
         "name": "NU",
         "orientation": "v",
         "showlegend": true,
         "text": [
          "sandslash",
          "nidoran-m",
          "vileplume",
          "primeape",
          "muk",
          "exeggutor",
          "weezing",
          "rhydon",
          "kangaskhan",
          "jynx",
          "kabutops",
          "typhlosion",
          "feraligatr",
          "lanturn",
          "xatu",
          "steelix",
          "granbull",
          "qwilfish",
          "slugma",
          "miltank",
          "ludicolo",
          "swellow",
          "hariyama",
          "torkoal",
          "cacturne",
          "zangoose",
          "cradily",
          "armaldo",
          "gorebyss",
          "regirock",
          "turtwig",
          "mismagius",
          "electivire",
          "magmortar",
          "probopass",
          "rotom",
          "rotom-fan",
          "uxie",
          "mesprit",
          "samurott",
          "liepard",
          "musharna",
          "roggenrola",
          "audino",
          "gurdurr",
          "seismitoad",
          "sawk",
          "sewaddle",
          "lilligant",
          "crustle",
          "archeops",
          "garbodor",
          "gothita",
          "ferroseed",
          "klinklang",
          "tynamo",
          "cubchoo",
          "cryogonal",
          "accelgor",
          "golurk",
          "pawniard",
          "scatterbug",
          "vivillon",
          "pyroar",
          "skiddo",
          "malamar"
         ],
         "type": "scatter",
         "x": [
          6.231750444867938,
          3.9096911061025525,
          6.79285782199701,
          6.535726449819808,
          6.829121910606702,
          7.376300259718265,
          6.763453114354202,
          6.5913265223189255,
          6.950367230778938,
          6.7016416783034325,
          6.890547561084092,
          7.724921055216437,
          7.414289204361979,
          6.635154751185576,
          6.845221138705307,
          6.6693673156546,
          6.199556963679242,
          6.160348140550585,
          3.4980645906057144,
          6.998595576746573,
          6.746341259398447,
          6.441688584000905,
          6.643051761718812,
          6.225918481137937,
          6.730437240856443,
          6.584234914245169,
          6.684336798915376,
          6.68019214662801,
          6.7168006555200535,
          7.596272072565303,
          4.32164111335824,
          7.175122061746672,
          7.70582512041187,
          7.707257058670113,
          6.796786656396508,
          6.377966317043608,
          7.275228131757678,
          7.982630179827772,
          8.071880394381884,
          7.510571242142222,
          6.659412050590558,
          6.713020222293843,
          3.71577825994967,
          6.153106301791184,
          5.534738653375452,
          7.248390792313787,
          6.484338147450561,
          4.238336131333119,
          6.989518302266953,
          6.395314899179954,
          8.25820431543111,
          6.629968331735398,
          4.072381577523783,
          3.8055899087572738,
          7.250645857794597,
          3.9908701290925355,
          4.3332464323222375,
          6.998936187448541,
          7.631294958769676,
          6.608895788441779,
          4.78469541156611,
          2.8607648558783496,
          6.163992985309022,
          7.510374158433102,
          4.975392310591748,
          6.775163228003257
         ],
         "xaxis": "x",
         "y": [
          -0.9987370933197713,
          -0.16112674539877225,
          -0.18636007582469016,
          0.14362971907256902,
          -0.6222974103940754,
          -1.4291540158892206,
          -0.5516896181468814,
          -2.7002108908482456,
          -0.29946449349588883,
          1.459971021810773,
          -0.34592561467779387,
          0.39086207500351877,
          -0.40858693222303566,
          -0.6904269379170129,
          0.37992423314786294,
          -1.491506987793599,
          -1.6672138159386478,
          -0.3150534573171329,
          -0.40444117230682725,
          -0.1084120818737171,
          0.5848301711262265,
          0.5042533884205527,
          -2.48206290461275,
          -1.2935936281940628,
          -1.2172374079130965,
          -0.4958003582343096,
          -0.001512191170503118,
          -1.06212829453555,
          -0.32505360485512785,
          -0.5305035832881703,
          -0.5107229999102871,
          1.7766782073923182,
          -0.07521390231602768,
          0.271350142701981,
          1.7848003441312157,
          1.1133831945806347,
          1.4556243835464235,
          1.6157672255886553,
          0.17698412724990437,
          -1.059427151342056,
          -0.029502389085587756,
          -0.8104240449002701,
          -1.6656475180722432,
          -0.3493696918894805,
          -1.6650724344930845,
          -0.8492398868357542,
          -0.2942867466512578,
          0.19481705360402127,
          0.46609277452560577,
          -0.7611535613466281,
          -0.6701940717646642,
          -0.09310536672089816,
          0.7202083163995453,
          0.41980927704627913,
          0.3598399877310698,
          0.2161717805116753,
          -0.7570173401449439,
          2.6888816737385843,
          0.7910268487386728,
          -1.0143088838050889,
          -0.5020693589682524,
          -0.2811756424318817,
          -0.10851288729952308,
          0.07627703751113804,
          -0.29780429188489604,
          -0.4419813037771946
         ],
         "yaxis": "y"
        },
        {
         "hovertemplate": "tier=UB<br>X=%{x}<br>Y=%{y}<br>name=%{text}<extra></extra>",
         "legendgroup": "UB",
         "marker": {
          "color": "#19d3f3",
          "symbol": "circle"
         },
         "mode": "markers+text",
         "name": "UB",
         "orientation": "v",
         "showlegend": true,
         "text": [
          "mewtwo",
          "lugia",
          "ho-oh",
          "blaziken",
          "kyogre",
          "groudon",
          "rayquaza",
          "deoxys",
          "deoxys-attack",
          "deoxys-defense",
          "deoxys-speed",
          "dialga",
          "palkia",
          "giratina",
          "giratina-origin",
          "darkrai",
          "shaymin-sky",
          "arceus",
          "arceus-ghost",
          "arceus-fairy",
          "arceus-ground",
          "arceus-steel",
          "arceus-dark",
          "arceus-rock",
          "arceus-electric",
          "arceus-water",
          "arceus-poison",
          "arceus-dragon",
          "arceus-grass",
          "arceus-fire",
          "arceus-fighting",
          "arceus-ice",
          "arceus-flying",
          "arceus-psychic",
          "arceus-bug",
          "reshiram",
          "zekrom",
          "kyurem-white",
          "genesect",
          "aegislash",
          "xerneas",
          "yveltal"
         ],
         "type": "scatter",
         "x": [
          9.982224049388561,
          9.4261319268984,
          9.377580727288354,
          7.576484072342336,
          9.416601923277668,
          9.310110710650275,
          9.704713096558642,
          9.062721359702724,
          9.260837906607062,
          8.004626739771584,
          8.964399604471227,
          9.610519655344078,
          9.619141114253454,
          9.54258682163625,
          9.674664519572476,
          8.773153129740825,
          8.873107296948938,
          10.232204206004385,
          10.232204206004385,
          10.232204206004385,
          10.232204206004385,
          10.232204206004385,
          10.232204206004385,
          10.232204206004385,
          10.232204206004385,
          10.232204206004385,
          10.232204206004385,
          10.232204206004385,
          10.232204206004385,
          10.232204206004385,
          10.232204206004385,
          10.232204206004385,
          10.232204206004385,
          10.232204206004385,
          10.232204206004385,
          9.578003058948418,
          9.497850033174151,
          10.068837133827689,
          8.513322982564693,
          6.7865653361013,
          9.711153884393248,
          9.711153884393248
         ],
         "xaxis": "x",
         "y": [
          -0.139851247627164,
          1.623075051432023,
          0.8293906097688698,
          -0.8394987485457175,
          0.8298028001927631,
          -1.2059711483020166,
          -1.219777663385469,
          -0.1895992261251164,
          -1.407152760686343,
          2.781251725344422,
          2.180561490917334,
          -0.6402003396262985,
          0.32561265699043007,
          -0.5836778193891627,
          -1.3953801757633142,
          0.8322409598502212,
          -0.1706936647837606,
          0.10475018049615817,
          0.10475018049615817,
          0.10475018049615817,
          0.10475018049615817,
          0.10475018049615817,
          0.10475018049615817,
          0.10475018049615817,
          0.10475018049615817,
          0.10475018049615817,
          0.10475018049615817,
          0.10475018049615817,
          0.10475018049615817,
          0.10475018049615817,
          0.10475018049615817,
          0.10475018049615817,
          0.10475018049615817,
          0.10475018049615817,
          0.10475018049615817,
          -0.02486031255559599,
          -0.9386546681171122,
          -0.9989091843875757,
          0.15398183537592267,
          2.2530720589207345,
          -1.0235204613350994,
          -1.0235204613350994
         ],
         "yaxis": "y"
        }
       ],
       "layout": {
        "legend": {
         "title": {
          "text": "tier"
         },
         "tracegroupgap": 0
        },
        "margin": {
         "t": 60
        },
        "template": {
         "data": {
          "bar": [
           {
            "error_x": {
             "color": "#2a3f5f"
            },
            "error_y": {
             "color": "#2a3f5f"
            },
            "marker": {
             "line": {
              "color": "#E5ECF6",
              "width": 0.5
             },
             "pattern": {
              "fillmode": "overlay",
              "size": 10,
              "solidity": 0.2
             }
            },
            "type": "bar"
           }
          ],
          "barpolar": [
           {
            "marker": {
             "line": {
              "color": "#E5ECF6",
              "width": 0.5
             },
             "pattern": {
              "fillmode": "overlay",
              "size": 10,
              "solidity": 0.2
             }
            },
            "type": "barpolar"
           }
          ],
          "carpet": [
           {
            "aaxis": {
             "endlinecolor": "#2a3f5f",
             "gridcolor": "white",
             "linecolor": "white",
             "minorgridcolor": "white",
             "startlinecolor": "#2a3f5f"
            },
            "baxis": {
             "endlinecolor": "#2a3f5f",
             "gridcolor": "white",
             "linecolor": "white",
             "minorgridcolor": "white",
             "startlinecolor": "#2a3f5f"
            },
            "type": "carpet"
           }
          ],
          "choropleth": [
           {
            "colorbar": {
             "outlinewidth": 0,
             "ticks": ""
            },
            "type": "choropleth"
           }
          ],
          "contour": [
           {
            "colorbar": {
             "outlinewidth": 0,
             "ticks": ""
            },
            "colorscale": [
             [
              0,
              "#0d0887"
             ],
             [
              0.1111111111111111,
              "#46039f"
             ],
             [
              0.2222222222222222,
              "#7201a8"
             ],
             [
              0.3333333333333333,
              "#9c179e"
             ],
             [
              0.4444444444444444,
              "#bd3786"
             ],
             [
              0.5555555555555556,
              "#d8576b"
             ],
             [
              0.6666666666666666,
              "#ed7953"
             ],
             [
              0.7777777777777778,
              "#fb9f3a"
             ],
             [
              0.8888888888888888,
              "#fdca26"
             ],
             [
              1,
              "#f0f921"
             ]
            ],
            "type": "contour"
           }
          ],
          "contourcarpet": [
           {
            "colorbar": {
             "outlinewidth": 0,
             "ticks": ""
            },
            "type": "contourcarpet"
           }
          ],
          "heatmap": [
           {
            "colorbar": {
             "outlinewidth": 0,
             "ticks": ""
            },
            "colorscale": [
             [
              0,
              "#0d0887"
             ],
             [
              0.1111111111111111,
              "#46039f"
             ],
             [
              0.2222222222222222,
              "#7201a8"
             ],
             [
              0.3333333333333333,
              "#9c179e"
             ],
             [
              0.4444444444444444,
              "#bd3786"
             ],
             [
              0.5555555555555556,
              "#d8576b"
             ],
             [
              0.6666666666666666,
              "#ed7953"
             ],
             [
              0.7777777777777778,
              "#fb9f3a"
             ],
             [
              0.8888888888888888,
              "#fdca26"
             ],
             [
              1,
              "#f0f921"
             ]
            ],
            "type": "heatmap"
           }
          ],
          "heatmapgl": [
           {
            "colorbar": {
             "outlinewidth": 0,
             "ticks": ""
            },
            "colorscale": [
             [
              0,
              "#0d0887"
             ],
             [
              0.1111111111111111,
              "#46039f"
             ],
             [
              0.2222222222222222,
              "#7201a8"
             ],
             [
              0.3333333333333333,
              "#9c179e"
             ],
             [
              0.4444444444444444,
              "#bd3786"
             ],
             [
              0.5555555555555556,
              "#d8576b"
             ],
             [
              0.6666666666666666,
              "#ed7953"
             ],
             [
              0.7777777777777778,
              "#fb9f3a"
             ],
             [
              0.8888888888888888,
              "#fdca26"
             ],
             [
              1,
              "#f0f921"
             ]
            ],
            "type": "heatmapgl"
           }
          ],
          "histogram": [
           {
            "marker": {
             "pattern": {
              "fillmode": "overlay",
              "size": 10,
              "solidity": 0.2
             }
            },
            "type": "histogram"
           }
          ],
          "histogram2d": [
           {
            "colorbar": {
             "outlinewidth": 0,
             "ticks": ""
            },
            "colorscale": [
             [
              0,
              "#0d0887"
             ],
             [
              0.1111111111111111,
              "#46039f"
             ],
             [
              0.2222222222222222,
              "#7201a8"
             ],
             [
              0.3333333333333333,
              "#9c179e"
             ],
             [
              0.4444444444444444,
              "#bd3786"
             ],
             [
              0.5555555555555556,
              "#d8576b"
             ],
             [
              0.6666666666666666,
              "#ed7953"
             ],
             [
              0.7777777777777778,
              "#fb9f3a"
             ],
             [
              0.8888888888888888,
              "#fdca26"
             ],
             [
              1,
              "#f0f921"
             ]
            ],
            "type": "histogram2d"
           }
          ],
          "histogram2dcontour": [
           {
            "colorbar": {
             "outlinewidth": 0,
             "ticks": ""
            },
            "colorscale": [
             [
              0,
              "#0d0887"
             ],
             [
              0.1111111111111111,
              "#46039f"
             ],
             [
              0.2222222222222222,
              "#7201a8"
             ],
             [
              0.3333333333333333,
              "#9c179e"
             ],
             [
              0.4444444444444444,
              "#bd3786"
             ],
             [
              0.5555555555555556,
              "#d8576b"
             ],
             [
              0.6666666666666666,
              "#ed7953"
             ],
             [
              0.7777777777777778,
              "#fb9f3a"
             ],
             [
              0.8888888888888888,
              "#fdca26"
             ],
             [
              1,
              "#f0f921"
             ]
            ],
            "type": "histogram2dcontour"
           }
          ],
          "mesh3d": [
           {
            "colorbar": {
             "outlinewidth": 0,
             "ticks": ""
            },
            "type": "mesh3d"
           }
          ],
          "parcoords": [
           {
            "line": {
             "colorbar": {
              "outlinewidth": 0,
              "ticks": ""
             }
            },
            "type": "parcoords"
           }
          ],
          "pie": [
           {
            "automargin": true,
            "type": "pie"
           }
          ],
          "scatter": [
           {
            "marker": {
             "colorbar": {
              "outlinewidth": 0,
              "ticks": ""
             }
            },
            "type": "scatter"
           }
          ],
          "scatter3d": [
           {
            "line": {
             "colorbar": {
              "outlinewidth": 0,
              "ticks": ""
             }
            },
            "marker": {
             "colorbar": {
              "outlinewidth": 0,
              "ticks": ""
             }
            },
            "type": "scatter3d"
           }
          ],
          "scattercarpet": [
           {
            "marker": {
             "colorbar": {
              "outlinewidth": 0,
              "ticks": ""
             }
            },
            "type": "scattercarpet"
           }
          ],
          "scattergeo": [
           {
            "marker": {
             "colorbar": {
              "outlinewidth": 0,
              "ticks": ""
             }
            },
            "type": "scattergeo"
           }
          ],
          "scattergl": [
           {
            "marker": {
             "colorbar": {
              "outlinewidth": 0,
              "ticks": ""
             }
            },
            "type": "scattergl"
           }
          ],
          "scattermapbox": [
           {
            "marker": {
             "colorbar": {
              "outlinewidth": 0,
              "ticks": ""
             }
            },
            "type": "scattermapbox"
           }
          ],
          "scatterpolar": [
           {
            "marker": {
             "colorbar": {
              "outlinewidth": 0,
              "ticks": ""
             }
            },
            "type": "scatterpolar"
           }
          ],
          "scatterpolargl": [
           {
            "marker": {
             "colorbar": {
              "outlinewidth": 0,
              "ticks": ""
             }
            },
            "type": "scatterpolargl"
           }
          ],
          "scatterternary": [
           {
            "marker": {
             "colorbar": {
              "outlinewidth": 0,
              "ticks": ""
             }
            },
            "type": "scatterternary"
           }
          ],
          "surface": [
           {
            "colorbar": {
             "outlinewidth": 0,
             "ticks": ""
            },
            "colorscale": [
             [
              0,
              "#0d0887"
             ],
             [
              0.1111111111111111,
              "#46039f"
             ],
             [
              0.2222222222222222,
              "#7201a8"
             ],
             [
              0.3333333333333333,
              "#9c179e"
             ],
             [
              0.4444444444444444,
              "#bd3786"
             ],
             [
              0.5555555555555556,
              "#d8576b"
             ],
             [
              0.6666666666666666,
              "#ed7953"
             ],
             [
              0.7777777777777778,
              "#fb9f3a"
             ],
             [
              0.8888888888888888,
              "#fdca26"
             ],
             [
              1,
              "#f0f921"
             ]
            ],
            "type": "surface"
           }
          ],
          "table": [
           {
            "cells": {
             "fill": {
              "color": "#EBF0F8"
             },
             "line": {
              "color": "white"
             }
            },
            "header": {
             "fill": {
              "color": "#C8D4E3"
             },
             "line": {
              "color": "white"
             }
            },
            "type": "table"
           }
          ]
         },
         "layout": {
          "annotationdefaults": {
           "arrowcolor": "#2a3f5f",
           "arrowhead": 0,
           "arrowwidth": 1
          },
          "autotypenumbers": "strict",
          "coloraxis": {
           "colorbar": {
            "outlinewidth": 0,
            "ticks": ""
           }
          },
          "colorscale": {
           "diverging": [
            [
             0,
             "#8e0152"
            ],
            [
             0.1,
             "#c51b7d"
            ],
            [
             0.2,
             "#de77ae"
            ],
            [
             0.3,
             "#f1b6da"
            ],
            [
             0.4,
             "#fde0ef"
            ],
            [
             0.5,
             "#f7f7f7"
            ],
            [
             0.6,
             "#e6f5d0"
            ],
            [
             0.7,
             "#b8e186"
            ],
            [
             0.8,
             "#7fbc41"
            ],
            [
             0.9,
             "#4d9221"
            ],
            [
             1,
             "#276419"
            ]
           ],
           "sequential": [
            [
             0,
             "#0d0887"
            ],
            [
             0.1111111111111111,
             "#46039f"
            ],
            [
             0.2222222222222222,
             "#7201a8"
            ],
            [
             0.3333333333333333,
             "#9c179e"
            ],
            [
             0.4444444444444444,
             "#bd3786"
            ],
            [
             0.5555555555555556,
             "#d8576b"
            ],
            [
             0.6666666666666666,
             "#ed7953"
            ],
            [
             0.7777777777777778,
             "#fb9f3a"
            ],
            [
             0.8888888888888888,
             "#fdca26"
            ],
            [
             1,
             "#f0f921"
            ]
           ],
           "sequentialminus": [
            [
             0,
             "#0d0887"
            ],
            [
             0.1111111111111111,
             "#46039f"
            ],
            [
             0.2222222222222222,
             "#7201a8"
            ],
            [
             0.3333333333333333,
             "#9c179e"
            ],
            [
             0.4444444444444444,
             "#bd3786"
            ],
            [
             0.5555555555555556,
             "#d8576b"
            ],
            [
             0.6666666666666666,
             "#ed7953"
            ],
            [
             0.7777777777777778,
             "#fb9f3a"
            ],
            [
             0.8888888888888888,
             "#fdca26"
            ],
            [
             1,
             "#f0f921"
            ]
           ]
          },
          "colorway": [
           "#636efa",
           "#EF553B",
           "#00cc96",
           "#ab63fa",
           "#FFA15A",
           "#19d3f3",
           "#FF6692",
           "#B6E880",
           "#FF97FF",
           "#FECB52"
          ],
          "font": {
           "color": "#2a3f5f"
          },
          "geo": {
           "bgcolor": "white",
           "lakecolor": "white",
           "landcolor": "#E5ECF6",
           "showlakes": true,
           "showland": true,
           "subunitcolor": "white"
          },
          "hoverlabel": {
           "align": "left"
          },
          "hovermode": "closest",
          "mapbox": {
           "style": "light"
          },
          "paper_bgcolor": "white",
          "plot_bgcolor": "#E5ECF6",
          "polar": {
           "angularaxis": {
            "gridcolor": "white",
            "linecolor": "white",
            "ticks": ""
           },
           "bgcolor": "#E5ECF6",
           "radialaxis": {
            "gridcolor": "white",
            "linecolor": "white",
            "ticks": ""
           }
          },
          "scene": {
           "xaxis": {
            "backgroundcolor": "#E5ECF6",
            "gridcolor": "white",
            "gridwidth": 2,
            "linecolor": "white",
            "showbackground": true,
            "ticks": "",
            "zerolinecolor": "white"
           },
           "yaxis": {
            "backgroundcolor": "#E5ECF6",
            "gridcolor": "white",
            "gridwidth": 2,
            "linecolor": "white",
            "showbackground": true,
            "ticks": "",
            "zerolinecolor": "white"
           },
           "zaxis": {
            "backgroundcolor": "#E5ECF6",
            "gridcolor": "white",
            "gridwidth": 2,
            "linecolor": "white",
            "showbackground": true,
            "ticks": "",
            "zerolinecolor": "white"
           }
          },
          "shapedefaults": {
           "line": {
            "color": "#2a3f5f"
           }
          },
          "ternary": {
           "aaxis": {
            "gridcolor": "white",
            "linecolor": "white",
            "ticks": ""
           },
           "baxis": {
            "gridcolor": "white",
            "linecolor": "white",
            "ticks": ""
           },
           "bgcolor": "#E5ECF6",
           "caxis": {
            "gridcolor": "white",
            "linecolor": "white",
            "ticks": ""
           }
          },
          "title": {
           "x": 0.05
          },
          "xaxis": {
           "automargin": true,
           "gridcolor": "white",
           "linecolor": "white",
           "ticks": "",
           "title": {
            "standoff": 15
           },
           "zerolinecolor": "white",
           "zerolinewidth": 2
          },
          "yaxis": {
           "automargin": true,
           "gridcolor": "white",
           "linecolor": "white",
           "ticks": "",
           "title": {
            "standoff": 15
           },
           "zerolinecolor": "white",
           "zerolinewidth": 2
          }
         }
        },
        "xaxis": {
         "anchor": "y",
         "domain": [
          0,
          1
         ],
         "title": {
          "text": "X"
         }
        },
        "yaxis": {
         "anchor": "x",
         "domain": [
          0,
          1
         ],
         "title": {
          "text": "Y"
         }
        }
       }
      }
     },
     "metadata": {},
     "output_type": "display_data"
    }
   ],
   "source": [
    "px.scatter(data_transformed, x=\"X\", y=\"Y\", color=\"tier\", text=\"name\")"
   ]
  }
 ],
 "metadata": {
  "interpreter": {
   "hash": "0adcc2737ebf6a4a119f135174df96668767fca1ef1112612db5ecadf2b6d608"
  },
  "kernelspec": {
   "display_name": "Python 3.8.12 64-bit",
   "language": "python",
   "name": "python3"
  },
  "language_info": {
   "codemirror_mode": {
    "name": "ipython",
    "version": 3
   },
   "file_extension": ".py",
   "mimetype": "text/x-python",
   "name": "python",
   "nbconvert_exporter": "python",
   "pygments_lexer": "ipython3",
   "version": "3.9.10"
  },
  "orig_nbformat": 4
 },
 "nbformat": 4,
 "nbformat_minor": 2
}
